{
 "cells": [
  {
   "cell_type": "markdown",
   "metadata": {},
   "source": [
    "# `0.` IMPORTING REQUIRED LIBs"
   ]
  },
  {
   "cell_type": "code",
   "execution_count": 1,
   "metadata": {},
   "outputs": [],
   "source": [
    "# base libariries \n",
    "import numpy as np\n",
    "import pandas as pd\n",
    "import matplotlib.pyplot as plt\n",
    "from scipy.stats import shapiro\n",
    "\n",
    "# preprocessing libariries\n",
    "from sklearn.preprocessing import MinMaxScaler\n",
    "from sklearn.preprocessing import StandardScaler\n",
    "from sklearn.preprocessing import LabelEncoder\n",
    "from sklearn.preprocessing import OneHotEncoder\n",
    "\n",
    "# statistics \n",
    "from statsmodels.api import OLS\n",
    "import statsmodels.api as sm\n",
    "from statsmodels.stats.outliers_influence import variance_inflation_factor\n",
    "from statsmodels.tools.tools import add_constant\n",
    "\n",
    "# splitting helper\n",
    "from sklearn.model_selection import train_test_split\n",
    "\n",
    "# models\n",
    "from sklearn.linear_model import LogisticRegression\n",
    "from sklearn.svm import SVC\n",
    "\n",
    "# evaluation metric\n",
    "from sklearn.metrics import classification_report\n",
    "from sklearn.metrics import confusion_matrix\n",
    "from sklearn.metrics import r2_score\n",
    "from sklearn.metrics import mean_squared_error\n",
    "from sklearn.metrics import accuracy_score\n",
    "from sklearn.metrics import roc_curve, roc_auc_score\n",
    "\n",
    "# warnings\n",
    "import warnings\n",
    "warnings.filterwarnings(\"ignore\")"
   ]
  },
  {
   "cell_type": "markdown",
   "metadata": {},
   "source": [
    "# `1.` HELPER FUNCTIONS"
   ]
  },
  {
   "cell_type": "code",
   "execution_count": 2,
   "metadata": {},
   "outputs": [],
   "source": [
    "# function to get the updated numerical columns\n",
    "def get_numeric(features_df):\n",
    "    return list(set([c for c in features_df.columns if np.issubdtype(features_df[c].dtype, np.number)]) - set(['HasCrCard', 'IsActiveMember']))"
   ]
  },
  {
   "cell_type": "markdown",
   "metadata": {},
   "source": [
    "#### `1.00` Handling nulls >> No Nulls in this data"
   ]
  },
  {
   "cell_type": "code",
   "execution_count": 3,
   "metadata": {},
   "outputs": [],
   "source": [
    "def handle_nulls(features_df, cols_threshold, rows_threshold):\n",
    "    # data shape\n",
    "    observations_num = features_df.shape[0]\n",
    "\n",
    "    # getting count of nulls in columns\n",
    "    cols_nulls_count = features_df.isna().sum(axis=0).reset_index().rename(columns={0: 'null_counts'})\n",
    "    nulls_cols = cols_nulls_count[cols_nulls_count['null_counts']>0]\n",
    "\n",
    "    # handling them\n",
    "    cols_to_be_dropped = set(nulls_cols[nulls_cols['null_counts']/observations_num > cols_threshold]['index'])\n",
    "    rows_to_be_dropped = set(nulls_cols[nulls_cols['null_counts']/observations_num < rows_threshold]['index'])\n",
    "    cols_to_be_imputed = set(nulls_cols['index']) - cols_to_be_dropped - rows_to_be_dropped\n",
    "\n",
    "    # dictionary \n",
    "    final = {'cols_to_be_dropped': list(cols_to_be_dropped), \n",
    "             'rows_to_be_dropped': list(rows_to_be_dropped),\n",
    "             'cols_to_be_imputed': list(cols_to_be_imputed)}\n",
    "\n",
    "    return final"
   ]
  },
  {
   "cell_type": "markdown",
   "metadata": {},
   "source": [
    "#### `1.01` Handling duplicates >> >> No Duplicates in this data"
   ]
  },
  {
   "cell_type": "code",
   "execution_count": 4,
   "metadata": {},
   "outputs": [],
   "source": [
    "def handle_duplicates(features_df, dup_threshold):\n",
    "    # data shape\n",
    "    observations_num = features_df.shape[0]\n",
    "\n",
    "    cols_to_be_dropped = []\n",
    "    for c in features_df.columns:\n",
    "        if (features_df[c].value_counts()/observations_num > dup_threshold).sum():\n",
    "            cols_to_be_dropped.append(c)\n",
    "            \n",
    "    return cols_to_be_dropped"
   ]
  },
  {
   "cell_type": "markdown",
   "metadata": {},
   "source": [
    "#### `1.02` Handling outliers"
   ]
  },
  {
   "cell_type": "code",
   "execution_count": 5,
   "metadata": {},
   "outputs": [],
   "source": [
    "def handle_outliers(features_df, out_threshold):\n",
    "    numeric = get_numeric(features_df) \n",
    "    Q1 = np.quantile(features_df[numeric], q=0.25, method='midpoint', axis=0)\n",
    "    Q3 = np.quantile(features_df[numeric], q=0.75, method='midpoint', axis=0)\n",
    "\n",
    "    IQR = Q3 - Q1\n",
    "    upper_bound = Q3 + out_threshold * IQR\n",
    "    lower_bound = Q1 - out_threshold * IQR\n",
    "\n",
    "    return lower_bound, upper_bound"
   ]
  },
  {
   "cell_type": "code",
   "execution_count": 6,
   "metadata": {},
   "outputs": [],
   "source": [
    "def outliers_clamping(features_df, lower_bound, upper_bound):\n",
    "    numeric = get_numeric(features_df)\n",
    "    num_of_features = numeric.__len__()\n",
    "    \n",
    "    for i in range(num_of_features):\n",
    "        before = features_df[numeric[i]]\n",
    "        features_df[numeric[i]] = np.where(features_df[numeric[i]] <= upper_bound[i], features_df[numeric[i]], upper_bound[i])\n",
    "        features_df[numeric[i]] = np.where(features_df[numeric[i]] >= lower_bound[i], features_df[numeric[i]], lower_bound[i])\n",
    "        after = features_df[numeric[i]]\n",
    "        print(f'shape = {features_df.shape[0]}, total matched {(before == after).sum()}')"
   ]
  },
  {
   "cell_type": "markdown",
   "metadata": {},
   "source": [
    "#### `1.03` Handling skewness"
   ]
  },
  {
   "cell_type": "code",
   "execution_count": 7,
   "metadata": {},
   "outputs": [],
   "source": [
    "def skewness(features_df):\n",
    "    # data shape\n",
    "    observations_num = features_df.shape[0]\n",
    "    \n",
    "    numeric = get_numeric(features_df)\n",
    "\n",
    "    numenator = np.sum(np.power(features_df[numeric] - features_df[numeric].mean(axis=0), 3), axis=0) * observations_num\n",
    "    denumenator = np.power(features_df[numeric].std(axis=0), 3) * (observations_num - 1) * (observations_num - 2)\n",
    "    sk_coeff = (numenator/denumenator).reset_index().rename(columns={0: 'sk_coef'})\n",
    "    \n",
    "    print(f\"*SK_coeff: {sk_coeff}\")\n",
    "    final = list(set(sk_coeff[sk_coeff['sk_coef']>=1]['index']).union(set(sk_coeff[sk_coeff['sk_coef']<=-1]['index'])))\n",
    "\n",
    "    return final"
   ]
  },
  {
   "cell_type": "code",
   "execution_count": 8,
   "metadata": {},
   "outputs": [],
   "source": [
    "def handle_skewness(features_df, cols_to_be_transformed):\n",
    "    features_df[cols_to_be_transformed] = np.log(np.abs(features_df[cols_to_be_transformed]) + 1)\n",
    "        \n",
    "    return None"
   ]
  },
  {
   "cell_type": "markdown",
   "metadata": {},
   "source": [
    "#### `1.04` Checking normal distribution"
   ]
  },
  {
   "cell_type": "code",
   "execution_count": 9,
   "metadata": {},
   "outputs": [],
   "source": [
    "def normality_test(features_df, shapiro_alpha):\n",
    "    sample_df = features_df.sample(replace=False, n=500)\n",
    "    numeric = get_numeric(sample_df)\n",
    "    \n",
    "    feats_std_scale = []\n",
    "    feats_min_max_scale = []\n",
    "\n",
    "    for col in numeric:\n",
    "        stat, p = shapiro(sample_df[col])\n",
    "        print('* W_Statistic=%.3f, p=%.8f' % (stat, p))\n",
    "\n",
    "        if p > shapiro_alpha:\n",
    "            print(f'  {col} looks like gaussian (fail to reject H0)')\n",
    "            feats_std_scale.append(col)\n",
    "        else:\n",
    "            print(f'  {col} does not look Gaussian (reject H0)')\n",
    "            feats_min_max_scale.append(col)\n",
    "\n",
    "    return feats_min_max_scale, feats_std_scale"
   ]
  },
  {
   "cell_type": "code",
   "execution_count": 10,
   "metadata": {},
   "outputs": [],
   "source": [
    "def qq_plot(features_df, ncols=4, fig_size=(20, 20)):\n",
    "    numeric = get_numeric(features_df)\n",
    "    features_num = numeric.__len__()\n",
    "    \n",
    "    # number of cols and rows \n",
    "    nrows = features_num//ncols\n",
    "    if features_num%ncols:\n",
    "        nrows += 1\n",
    "        \n",
    "    # ploting\n",
    "    fig, axes = plt.subplots(nrows=nrows, ncols=ncols, figsize=fig_size)\n",
    "    for r in range(nrows):\n",
    "        for c in range(ncols):\n",
    "            if ncols*r+c < features_num:\n",
    "                sm.qqplot(features_df[numeric[ncols*r+c]], fit=False, line='q', ax=axes[r, c])\n",
    "                axes[r, c].set_title(numeric[ncols*r+c])\n",
    "                \n",
    "    plt.tight_layout()\n",
    "    plt.show()"
   ]
  },
  {
   "cell_type": "markdown",
   "metadata": {},
   "source": [
    "#### `1.06` Features scaling"
   ]
  },
  {
   "cell_type": "code",
   "execution_count": 11,
   "metadata": {},
   "outputs": [],
   "source": [
    "def features_scaling(X_train_, X_val_, feats_min_max, feats_std):\n",
    "    print(f'* Number of features needs min_max = {len(feats_min_max)}, std = {len(feats_std)} according to shapiro-test.')\n",
    "\n",
    "    flag = 0\n",
    "\n",
    "    try:\n",
    "        # model\n",
    "        min_max_scaler = MinMaxScaler()\n",
    "        min_max_scaler.fit(X_train_[feats_min_max])\n",
    "\n",
    "        # transform\n",
    "        X_train_min_max = pd.DataFrame(min_max_scaler.transform(X_train_[feats_min_max]), columns=feats_min_max, index=X_train_.index)\n",
    "        X_val_min_max = pd.DataFrame(min_max_scaler.transform(X_val_[feats_min_max]), columns=feats_min_max, index=X_val_.index)\n",
    "    except:\n",
    "        flag = 1\n",
    "        print(\"* All features follows gaussian distribution according to shapiro-test, standard scalling used.\")\n",
    "\n",
    "    try:\n",
    "        # model\n",
    "        std_scaler = StandardScaler()\n",
    "        std_scaler.fit(X_train_[feats_std])\n",
    "\n",
    "        # transform\n",
    "        X_train_std = pd.DataFrame(std_scaler.transform(X_train_[feats_std]), columns=feats_std, index=X_train_.index)\n",
    "        X_val_std = pd.DataFrame(std_scaler.transform(X_val_[feats_std]), columns=feats_std, index=X_val_.index)\n",
    "    except:\n",
    "        flag = 2\n",
    "        print(\"* All features did not follow gaussian distribution according to shapiro-test, min-max scalling used.\")\n",
    "    \n",
    "    # merge\n",
    "    if not flag:\n",
    "        X_train_scaled = X_train_std.merge(X_train_min_max, right_index=True, left_index=True, how='inner')\n",
    "        X_val_scaled = X_val_std.merge(X_val_min_max, right_index=True, left_index=True, how='inner')\n",
    "    elif flag == 1:\n",
    "        X_train_scaled = X_train_std\n",
    "        X_val_scaled = X_val_std\n",
    "    else:\n",
    "        X_train_scaled = X_train_min_max\n",
    "        X_val_scaled = X_val_min_max\n",
    "        \n",
    "    return X_train_scaled, X_val_scaled"
   ]
  },
  {
   "cell_type": "markdown",
   "metadata": {},
   "source": [
    "#### `1.07` Features encoding"
   ]
  },
  {
   "cell_type": "code",
   "execution_count": 12,
   "metadata": {},
   "outputs": [],
   "source": [
    "def encoding(X_train_, X_val_, label_, onehot_):\n",
    "    # ordinal categorical columns\n",
    "    label_enc = LabelEncoder()\n",
    "    label_enc.fit(X_train_[label_].to_numpy().reshape((X_train_[label_].shape[0], )))\n",
    "    X_train_label_df = pd.DataFrame(label_enc.transform(X_train_[label_]), columns=label_, index=X_train_.index)\n",
    "    X_val_label_df = pd.DataFrame(label_enc.transform(X_val_[label_]), columns=label_, index=X_val_.index)\n",
    "    \n",
    "    # nominal categorical columns\n",
    "    onehot_enc = OneHotEncoder(sparse=False)\n",
    "    onehot_enc.fit(X_train_[onehot_])\n",
    "    X_train_onehot = onehot_enc.transform(X_train_[onehot_])\n",
    "    X_val_onehot = onehot_enc.transform(X_val_[onehot_])\n",
    "    a = onehot_enc.categories_\n",
    "\n",
    "    # nominal columns names\n",
    "    col_names = []\n",
    "    for i in range(onehot_.__len__()):\n",
    "        temp = [onehot_[i]+'_'+nc for nc in list(a[i])]\n",
    "        col_names += temp\n",
    "\n",
    "    X_train_onehot_df = pd.DataFrame(X_train_onehot, columns=col_names, index=X_train_.index)\n",
    "    X_val_onehot_df = pd.DataFrame(X_val_onehot, columns=col_names, index=X_val_.index)\n",
    "\n",
    "    # merge\n",
    "    X_train_cat = X_train_onehot_df.merge(X_train_label_df, right_index=True, left_index=True, how='inner')\n",
    "    X_val_cat = X_val_onehot_df.merge(X_val_label_df, right_index=True, left_index=True, how='inner')\n",
    "    \n",
    "    return X_train_cat, X_val_cat"
   ]
  },
  {
   "cell_type": "markdown",
   "metadata": {},
   "source": [
    "# `2.` DATA-PREPROCESSING FUNCTION"
   ]
  },
  {
   "cell_type": "code",
   "execution_count": 13,
   "metadata": {},
   "outputs": [],
   "source": [
    "def data_preprocessing(X_train_df, y_train_df, X_val_df, y_val_df, label_, onehot_, out_threshold, \n",
    "                       shapiro_threshold, clamp=True, skew=True, scale=True):\n",
    "\n",
    "    # Handling Nulls in our data >> No Nulls\n",
    "    print(f\"* No nulls: {handle_nulls(X_train_df, 0.6, 0.06)}\")\n",
    "    \n",
    "    # a) Drops any column which has 80% of values with the same value >> No duplicates\n",
    "    print(f\"* No duplicates: {handle_duplicates(X_train_df, 0.8)}\")\n",
    "    \n",
    "    # b) Drops one of two highly correlated features >> it is a classification problem\n",
    "\n",
    "    # c) Clamps the outliers\n",
    "    if clamp:\n",
    "        print(\"############################################ OUTLIERS STAGE ############################################\")\n",
    "        print(f\"// outlier threshold: {out_threshold}\")\n",
    "        lower_bounds, upper_bounds = handle_outliers(X_train_df, out_threshold)\n",
    "        outliers_clamping(X_train_df, lower_bounds, upper_bounds)\n",
    "        outliers_clamping(X_val_df, lower_bounds, upper_bounds)\n",
    "        print(\"########################################################################################################\")\n",
    "    \n",
    "    # d) Log-transforms any highly skewed variable\n",
    "    if skew:\n",
    "        print(\"############################################ SKEWNESS STAGE ############################################\")\n",
    "        cols_to_be_transformed = skewness(X_train_df)\n",
    "        handle_skewness(X_train_df, cols_to_be_transformed)\n",
    "        handle_skewness(X_val_df, cols_to_be_transformed)\n",
    "        print(f\"// columns to be transformed: {cols_to_be_transformed}\")\n",
    "        print(\"########################################################################################################\")\n",
    "\n",
    "    # e, f) Min-max scale -> non-gaussian features, and standardize -> gaussian features, Shapiro-Wilk test with alpha = 0.01\n",
    "    if scale:\n",
    "        print(\"############################################### Q-Q PLOT ###############################################\")\n",
    "        qq_plot(X_train_df, 3, (20, 10))\n",
    "        print(\"########################################################################################################\")\n",
    "        print(\"############################################## NORMALITY ###############################################\")\n",
    "        print(f\"// shapiro threshold: {shapiro_threshold}\")\n",
    "        min_max_feats, std_feats = normality_test(X_train_df, shapiro_threshold)\n",
    "        X_train_scaled, X_val_scaled = features_scaling(X_train_df, X_val_df, min_max_feats, std_feats)\n",
    "        print(f\"// features scaled with min_max: {min_max_feats}\")\n",
    "        print(f\"// features scaled with std: {std_feats}\")\n",
    "        print(\"########################################################################################################\")\n",
    "\n",
    "    # g) OHE -> nominal features, and ordinal encodes -> ordinal features\n",
    "    print(\"#################################### ENCODING CATEGORICAL FEATURES #####################################\")\n",
    "    X_train_cat, X_val_cat = encoding(X_train_df, X_val_df, label_, onehot_)\n",
    "    print(f\"// X_train_cat.shape: {X_train_cat.shape}\")\n",
    "    print(f\"// X_val_cat.shape: {X_val_cat.shape}\")\n",
    "    print(\"########################################################################################################\")\n",
    "    \n",
    "    # h) Merges the pre-processed categorical and numerical data\n",
    "    print(\"############################################### MERGING ################################################\")\n",
    "    if scale:\n",
    "        X_train_final = X_train_cat.merge(X_train_scaled, right_index=True, left_index=True, how='inner')\n",
    "        X_val_final = X_val_cat.merge(X_val_scaled, right_index=True, left_index=True, how='inner')\n",
    "    else:\n",
    "        X_train_final = X_train_cat.merge(X_train_df[get_numeric(X_train_df)], right_index=True, left_index=True, how='inner')\n",
    "        X_val_final = X_val_cat.merge(X_val_df[get_numeric(X_train_df)], right_index=True, left_index=True, how='inner')\n",
    "    print(f\"// X_train_final.shape: {X_train_final.shape}\")\n",
    "    print(f\"// X_val_final.shape: {X_val_final.shape}\")\n",
    "    print(\"########################################################################################################\")\n",
    "\n",
    "    return X_train_final, X_val_final"
   ]
  },
  {
   "cell_type": "markdown",
   "metadata": {},
   "source": [
    "# `3.` MODEL MANIPULATION"
   ]
  },
  {
   "cell_type": "markdown",
   "metadata": {},
   "source": [
    "$$ precision = \\dfrac{TP}{TP + FP} $$"
   ]
  },
  {
   "cell_type": "markdown",
   "metadata": {},
   "source": [
    "$$ recall = \\dfrac{TP}{TP + FN} $$ "
   ]
  },
  {
   "cell_type": "markdown",
   "metadata": {},
   "source": [
    "$$ F_{1_{score}} = 2\\times\\dfrac{precision \\times recall}{precision + recall} $$ "
   ]
  },
  {
   "cell_type": "code",
   "execution_count": 14,
   "metadata": {},
   "outputs": [],
   "source": [
    "def create_svc_model(X_train_, y_train_, kernel, c=0, d=0, coef0=0, gamma=0):\n",
    "    if kernel == 'linear':\n",
    "        model = SVC(C=c, kernel='linear', class_weight='balanced', random_state=42)\n",
    "    if kernel == 'poly':\n",
    "        model = SVC(C=c, kernel='poly', class_weight='balanced', degree=d, coef0=coef0, random_state=42)\n",
    "    if kernel == 'rbf':\n",
    "        model = SVC(C=c, kernel='rbf', class_weight='balanced', gamma=gamma, random_state=42)\n",
    "    \n",
    "    model.fit(X_train_, y_train_)\n",
    "    \n",
    "    return model\n",
    "    "
   ]
  },
  {
   "cell_type": "code",
   "execution_count": 15,
   "metadata": {},
   "outputs": [],
   "source": [
    "def evaluate_models(actual, X_val_, models, model_type):\n",
    "    Cs = []\n",
    "    Ds = []\n",
    "    Coef0s = []\n",
    "    Gs = []\n",
    "    pre_churn = []\n",
    "    pre_not_churn = []\n",
    "    rec_churn = []\n",
    "    rec_not_churn = []\n",
    "    f1_churn = []\n",
    "    f1_not_churn = []\n",
    "    \n",
    "    for model in models:\n",
    "        # predicte validation labels\n",
    "        predicted = model.predict(X_val_)\n",
    "        \n",
    "        # create confusion matrix and sum its axises\n",
    "        conf_matrix = pd.DataFrame(confusion_matrix(actual, predicted), index=['actual_not-churn', 'actual_churn']).rename(columns={0: 'predicted_not-churn', 1: 'predicted_churn'})\n",
    "        people_predicted_not_churn, people_predicted_churn = conf_matrix.sum(axis=0)\n",
    "        people_who_actually_not_churned, people_who_actually_churned = conf_matrix.sum(axis=1)\n",
    "\n",
    "        # precision\n",
    "        precision_churn = conf_matrix.iloc[1, 1]/people_predicted_churn\n",
    "        precision_not_churn = conf_matrix.iloc[0, 0]/people_predicted_not_churn\n",
    "        \n",
    "        # recal\n",
    "        recall_churn = conf_matrix.iloc[1, 1]/people_who_actually_churned\n",
    "        recall_not_churn = conf_matrix.iloc[0, 0]/people_who_actually_not_churned\n",
    "\n",
    "        # F1-Score\n",
    "        f1_score_churn = 2 * ((precision_churn * recall_churn)/(precision_churn + recall_churn))\n",
    "        f1_score_not_churn = 2 * ((precision_not_churn * recall_not_churn)/(precision_not_churn + recall_not_churn))\n",
    "        \n",
    "        # saving our metrics for each model\n",
    "        Cs.append(model.C)\n",
    "        pre_churn.append(precision_churn)\n",
    "        pre_not_churn.append(precision_not_churn)\n",
    "        rec_churn.append(recall_churn)\n",
    "        rec_not_churn.append(recall_not_churn)\n",
    "        f1_churn.append(f1_score_churn)\n",
    "        f1_not_churn.append(f1_score_not_churn)\n",
    "        \n",
    "        if model_type == 'poly':\n",
    "            Ds.append(model.degree)\n",
    "            Coef0s.append(model.coef0)\n",
    "    \n",
    "        elif model_type == 'rbf':\n",
    "            Gs.append(model.gamma)\n",
    "    \n",
    "    if model_type == 'poly':\n",
    "        metrics_dict = {\n",
    "                    'C': Cs,\n",
    "                    'degree': Ds,\n",
    "                    'Coef0': Coef0s,\n",
    "                    'precision_churn': pre_churn,\n",
    "                    'recall_churn': rec_churn,\n",
    "                    'f1_score_churn': f1_churn,\n",
    "                    'precision_not_churn': pre_not_churn,\n",
    "                    'recall_not_churn': rec_not_churn,\n",
    "                    'f1_score_not_churn': f1_not_churn\n",
    "                }\n",
    "    elif model_type == 'rbf':\n",
    "        metrics_dict = {\n",
    "                    'C': Cs,\n",
    "                    'gamma': Gs,\n",
    "                    'precision_churn': pre_churn,\n",
    "                    'recall_churn': rec_churn,\n",
    "                    'f1_churn': f1_churn,\n",
    "                    'precision_not_churn': pre_not_churn,\n",
    "                    'recall_not_churn': rec_not_churn,\n",
    "                    'f1_not_churn': f1_not_churn\n",
    "                }\n",
    "    else:\n",
    "        metrics_dict = {\n",
    "                    'C': Cs,\n",
    "                    'precision_churn': pre_churn,\n",
    "                    'recall_churn': rec_churn,\n",
    "                    'f1_churn': f1_churn,\n",
    "                    'precision_not_churn': pre_not_churn,\n",
    "                    'recall_not_churn': rec_not_churn,\n",
    "                    'f1_not_churn': f1_not_churn\n",
    "                }\n",
    "        \n",
    "    return pd.DataFrame(metrics_dict)"
   ]
  },
  {
   "cell_type": "code",
   "execution_count": 16,
   "metadata": {},
   "outputs": [],
   "source": [
    "def evaluate_logistic_model(y_val_, X_val_, model, predicted_=None, model_flag=True):\n",
    "    if model_flag==True:\n",
    "        # predicte validation labels\n",
    "        predicted = model.predict(X_val_)\n",
    "    else:\n",
    "        predicted = predicted_\n",
    "\n",
    "    # create confusion matrix and sum its axises\n",
    "    conf_matrix = pd.DataFrame(confusion_matrix(y_val_, predicted), index=['actual_not-churn', 'actual_churn']).rename(columns={0: 'predicted_not-churn', 1: 'predicted_churn'})\n",
    "    print(conf_matrix)\n",
    "    people_predicted_not_churn, people_predicted_churn = conf_matrix.sum(axis=0)\n",
    "    people_who_actually_not_churned, people_who_actually_churned = conf_matrix.sum(axis=1)\n",
    "\n",
    "    # precision\n",
    "    precision_not_churn = conf_matrix.iloc[0, 0]/people_predicted_not_churn\n",
    "    precision_churn = conf_matrix.iloc[1, 1]/people_predicted_churn\n",
    "        \n",
    "    # recal\n",
    "    recall_not_churn = conf_matrix.iloc[0, 0]/people_who_actually_not_churned\n",
    "    recall_churn = conf_matrix.iloc[1, 1]/people_who_actually_churned\n",
    "\n",
    "    # F1-Score\n",
    "    f1_score_not_churn = 2 * ((precision_not_churn * recall_not_churn)/(precision_not_churn + recall_not_churn))\n",
    "    f1_score_churn = 2 * ((precision_churn * recall_churn)/(precision_churn + recall_churn))\n",
    "    \n",
    "    metrics_df = pd.DataFrame(columns=['precision_churn', 'recall_churn', 'f1_churn',\n",
    "                                       'precision_not_churn', 'recall_not_churn', 'f1_not_churn'])\n",
    "    \n",
    "    metrics_df.loc[0] = [precision_churn, recall_churn, f1_score_churn, \n",
    "                         precision_not_churn, recall_not_churn, f1_score_not_churn]\n",
    "    \n",
    "    return metrics_df"
   ]
  },
  {
   "cell_type": "markdown",
   "metadata": {},
   "source": [
    "# `4.` MAIN PROGRAM"
   ]
  },
  {
   "cell_type": "markdown",
   "metadata": {},
   "source": [
    "#### `4.0` Loading the data into memory"
   ]
  },
  {
   "cell_type": "code",
   "execution_count": 17,
   "metadata": {},
   "outputs": [],
   "source": [
    "# loading data into memory drop meaning-less features\n",
    "raw_data = pd.read_csv('Churn_Modelling.csv').drop(columns=['RowNumber', 'CustomerId', 'Surname'])\n",
    "\n",
    "# dominant and rare class\n",
    "#dominant_class = raw_data[raw_data['Exited']==0]\n",
    "#rare_class = raw_data[raw_data['Exited']==1]\n",
    "\n",
    "# under sampling dominant class\n",
    "#under_sampled_class = dominant_class.sample(frac=0.25, replace=False, random_state=42)\n",
    "#under_sampled_raw_data = pd.concat((under_sampled_class, rare_class), axis=0)\n",
    "\n",
    "# split our data-set into train and validation\n",
    "#X_train, X_val, y_train, y_val = train_test_split(under_sampled_raw_data.iloc[:, :-1], under_sampled_raw_data.iloc[:, [-1]], \n",
    "                                                  #test_size=0.25, shuffle=True, random_state=42)\n",
    "\n",
    "X_train, X_val, y_train, y_val = train_test_split(raw_data.iloc[:, :-1], raw_data.iloc[:, [-1]], \n",
    "                                                  test_size=0.25, stratify=raw_data.iloc[:, [-1]], random_state=42)"
   ]
  },
  {
   "cell_type": "markdown",
   "metadata": {},
   "source": [
    "#### `4.1` Data-preprocessing"
   ]
  },
  {
   "cell_type": "code",
   "execution_count": 18,
   "metadata": {
    "scrolled": true
   },
   "outputs": [
    {
     "name": "stdout",
     "output_type": "stream",
     "text": [
      "* No nulls: {'cols_to_be_dropped': [], 'rows_to_be_dropped': [], 'cols_to_be_imputed': []}\n",
      "* No duplicates: []\n",
      "############################################ OUTLIERS STAGE ############################################\n",
      "// outlier threshold: 1.5\n",
      "shape = 7500, total matched 7487\n",
      "shape = 7500, total matched 7215\n",
      "shape = 7500, total matched 7500\n",
      "shape = 7500, total matched 7456\n",
      "shape = 7500, total matched 7500\n",
      "shape = 7500, total matched 7500\n",
      "shape = 2500, total matched 2497\n",
      "shape = 2500, total matched 2426\n",
      "shape = 2500, total matched 2500\n",
      "shape = 2500, total matched 2484\n",
      "shape = 2500, total matched 2500\n",
      "shape = 2500, total matched 2500\n",
      "########################################################################################################\n",
      "############################################ SKEWNESS STAGE ############################################\n",
      "*SK_coeff:              index   sk_coef\n",
      "0      CreditScore -0.065724\n",
      "1              Age  0.641050\n",
      "2          Balance -0.139783\n",
      "3    NumOfProducts  0.561438\n",
      "4  EstimatedSalary  0.010630\n",
      "5           Tenure  0.011353\n",
      "// columns to be transformed: []\n",
      "########################################################################################################\n",
      "############################################### Q-Q PLOT ###############################################\n"
     ]
    },
    {
     "data": {
      "image/png": "[encoded data removed]",
      "text/plain": [
       "<Figure size 1440x720 with 6 Axes>"
      ]
     },
     "metadata": {
      "needs_background": "light"
     },
     "output_type": "display_data"
    },
    {
     "name": "stdout",
     "output_type": "stream",
     "text": [
      "########################################################################################################\n",
      "############################################## NORMALITY ###############################################\n",
      "// shapiro threshold: 0.001\n",
      "* W_Statistic=0.993, p=0.02880116\n",
      "  CreditScore looks like gaussian (fail to reject H0)\n",
      "* W_Statistic=0.964, p=0.00000000\n",
      "  Age does not look Gaussian (reject H0)\n",
      "* W_Statistic=0.837, p=0.00000000\n",
      "  Balance does not look Gaussian (reject H0)\n",
      "* W_Statistic=0.706, p=0.00000000\n",
      "  NumOfProducts does not look Gaussian (reject H0)\n",
      "* W_Statistic=0.959, p=0.00000000\n",
      "  EstimatedSalary does not look Gaussian (reject H0)\n",
      "* W_Statistic=0.955, p=0.00000000\n",
      "  Tenure does not look Gaussian (reject H0)\n",
      "* Number of features needs min_max = 5, std = 1 according to shapiro-test.\n",
      "// features scaled with min_max: ['Age', 'Balance', 'NumOfProducts', 'EstimatedSalary', 'Tenure']\n",
      "// features scaled with std: ['CreditScore']\n",
      "########################################################################################################\n",
      "#################################### ENCODING CATEGORICAL FEATURES #####################################\n",
      "// X_train_cat.shape: (7500, 4)\n",
      "// X_val_cat.shape: (2500, 4)\n",
      "########################################################################################################\n",
      "############################################### MERGING ################################################\n",
      "// X_train_final.shape: (7500, 10)\n",
      "// X_val_final.shape: (2500, 10)\n",
      "########################################################################################################\n"
     ]
    }
   ],
   "source": [
    "# categorical columns\n",
    "label_enc = ['Gender']\n",
    "onehot_enc = ['Geography']\n",
    "\n",
    "# invoke preprocessing function\n",
    "X_train_preprocessed, X_val_preprocessed = data_preprocessing(X_train, y_train, X_val, y_val, label_enc, onehot_enc, \n",
    "                                                              out_threshold=1.5, shapiro_threshold=.001)"
   ]
  },
  {
   "cell_type": "markdown",
   "metadata": {},
   "source": [
    "### `4.2` LogisticRegression Model"
   ]
  },
  {
   "cell_type": "code",
   "execution_count": 19,
   "metadata": {},
   "outputs": [
    {
     "name": "stdout",
     "output_type": "stream",
     "text": [
      "                  predicted_not-churn  predicted_churn\n",
      "actual_not-churn                 1931               60\n",
      "actual_churn                      424               85\n"
     ]
    },
    {
     "data": {
      "text/html": [
       "<div>\n",
       "<style scoped>\n",
       "    .dataframe tbody tr th:only-of-type {\n",
       "        vertical-align: middle;\n",
       "    }\n",
       "\n",
       "    .dataframe tbody tr th {\n",
       "        vertical-align: top;\n",
       "    }\n",
       "\n",
       "    .dataframe thead th {\n",
       "        text-align: right;\n",
       "    }\n",
       "</style>\n",
       "<table border=\"1\" class=\"dataframe\">\n",
       "  <thead>\n",
       "    <tr style=\"text-align: right;\">\n",
       "      <th></th>\n",
       "      <th>precision_churn</th>\n",
       "      <th>recall_churn</th>\n",
       "      <th>f1_churn</th>\n",
       "      <th>precision_not_churn</th>\n",
       "      <th>recall_not_churn</th>\n",
       "      <th>f1_not_churn</th>\n",
       "    </tr>\n",
       "  </thead>\n",
       "  <tbody>\n",
       "    <tr>\n",
       "      <th>0</th>\n",
       "      <td>0.586207</td>\n",
       "      <td>0.166994</td>\n",
       "      <td>0.259939</td>\n",
       "      <td>0.819958</td>\n",
       "      <td>0.969864</td>\n",
       "      <td>0.888633</td>\n",
       "    </tr>\n",
       "  </tbody>\n",
       "</table>\n",
       "</div>"
      ],
      "text/plain": [
       "   precision_churn  recall_churn  f1_churn  precision_not_churn  \\\n",
       "0         0.586207      0.166994  0.259939             0.819958   \n",
       "\n",
       "   recall_not_churn  f1_not_churn  \n",
       "0          0.969864      0.888633  "
      ]
     },
     "execution_count": 19,
     "metadata": {},
     "output_type": "execute_result"
    }
   ],
   "source": [
    "log_model = LogisticRegression(max_iter=100, fit_intercept=True)\n",
    "log_model.fit(X_train_preprocessed, y_train)\n",
    "evaluate_logistic_model(y_val, X_val_preprocessed, log_model)"
   ]
  },
  {
   "cell_type": "markdown",
   "metadata": {},
   "source": [
    "#### Code from labs (to meet business requirments 75%)"
   ]
  },
  {
   "cell_type": "code",
   "execution_count": 20,
   "metadata": {},
   "outputs": [
    {
     "data": {
      "image/png": "[encoded data removed]",
      "text/plain": [
       "<Figure size 432x288 with 1 Axes>"
      ]
     },
     "metadata": {
      "needs_background": "light"
     },
     "output_type": "display_data"
    }
   ],
   "source": [
    "y_pred_proba = log_model.predict_proba(X_val_preprocessed)[:, 1]\n",
    "fpr, tpr, thresholds = roc_curve(y_val, y_pred_proba)\n",
    "auc = roc_auc_score(y_val, y_pred_proba)\n",
    "\n",
    "#create ROC curve showing in the bottom the AUC curve\n",
    "plt.plot(fpr, tpr, label=\"AUC=\"+str(auc))\n",
    "plt.ylabel('True Positive Rate')\n",
    "plt.xlabel('False Positive Rate')\n",
    "plt.legend()\n",
    "plt.show()"
   ]
  },
  {
   "cell_type": "code",
   "execution_count": 21,
   "metadata": {},
   "outputs": [
    {
     "name": "stdout",
     "output_type": "stream",
     "text": [
      "                  predicted_not-churn  predicted_churn\n",
      "actual_not-churn                 1312              679\n",
      "actual_churn                      128              381\n"
     ]
    },
    {
     "data": {
      "text/html": [
       "<div>\n",
       "<style scoped>\n",
       "    .dataframe tbody tr th:only-of-type {\n",
       "        vertical-align: middle;\n",
       "    }\n",
       "\n",
       "    .dataframe tbody tr th {\n",
       "        vertical-align: top;\n",
       "    }\n",
       "\n",
       "    .dataframe thead th {\n",
       "        text-align: right;\n",
       "    }\n",
       "</style>\n",
       "<table border=\"1\" class=\"dataframe\">\n",
       "  <thead>\n",
       "    <tr style=\"text-align: right;\">\n",
       "      <th></th>\n",
       "      <th>precision_churn</th>\n",
       "      <th>recall_churn</th>\n",
       "      <th>f1_churn</th>\n",
       "      <th>precision_not_churn</th>\n",
       "      <th>recall_not_churn</th>\n",
       "      <th>f1_not_churn</th>\n",
       "    </tr>\n",
       "  </thead>\n",
       "  <tbody>\n",
       "    <tr>\n",
       "      <th>0</th>\n",
       "      <td>0.359434</td>\n",
       "      <td>0.748527</td>\n",
       "      <td>0.48566</td>\n",
       "      <td>0.911111</td>\n",
       "      <td>0.658965</td>\n",
       "      <td>0.764792</td>\n",
       "    </tr>\n",
       "  </tbody>\n",
       "</table>\n",
       "</div>"
      ],
      "text/plain": [
       "   precision_churn  recall_churn  f1_churn  precision_not_churn  \\\n",
       "0         0.359434      0.748527   0.48566             0.911111   \n",
       "\n",
       "   recall_not_churn  f1_not_churn  \n",
       "0          0.658965      0.764792  "
      ]
     },
     "execution_count": 21,
     "metadata": {},
     "output_type": "execute_result"
    }
   ],
   "source": [
    "y_pred_after_threshold = np.where(y_pred_proba<=thresholds[np.where(tpr >= 0.75)[0][0]], 0, 1)\n",
    "evaluate_logistic_model(y_val, X_val_preprocessed, log_model, y_pred_after_threshold, False)"
   ]
  },
  {
   "cell_type": "code",
   "execution_count": 22,
   "metadata": {},
   "outputs": [
    {
     "name": "stdout",
     "output_type": "stream",
     "text": [
      "* Number of predicted churn with logistic: 1060\n"
     ]
    }
   ],
   "source": [
    "print(f\"* Number of predicted churn with logistic: {(y_pred_after_threshold==1).sum()}\")"
   ]
  },
  {
   "cell_type": "markdown",
   "metadata": {},
   "source": [
    "### `4.3` SVC Model"
   ]
  },
  {
   "cell_type": "code",
   "execution_count": 23,
   "metadata": {},
   "outputs": [],
   "source": [
    "# initialize our list of hyper-parameters to be tested\n",
    "Cs = [0.01, 0.1, 0.5, 3, 4, 10]\n",
    "Gs = [0.001, 0.01, 0.1, 1, 10]\n",
    "Ds = [1, 2, 3, 4, 5]\n",
    "Coef0s = [0.2, 0.5, 0.8, 2, 3]"
   ]
  },
  {
   "cell_type": "markdown",
   "metadata": {},
   "source": [
    "#### `4.3.1` SVC Linear Kernel"
   ]
  },
  {
   "cell_type": "code",
   "execution_count": 24,
   "metadata": {
    "scrolled": false
   },
   "outputs": [
    {
     "data": {
      "text/html": [
       "<div>\n",
       "<style scoped>\n",
       "    .dataframe tbody tr th:only-of-type {\n",
       "        vertical-align: middle;\n",
       "    }\n",
       "\n",
       "    .dataframe tbody tr th {\n",
       "        vertical-align: top;\n",
       "    }\n",
       "\n",
       "    .dataframe thead th {\n",
       "        text-align: right;\n",
       "    }\n",
       "</style>\n",
       "<table border=\"1\" class=\"dataframe\">\n",
       "  <thead>\n",
       "    <tr style=\"text-align: right;\">\n",
       "      <th></th>\n",
       "      <th>C</th>\n",
       "      <th>precision_churn</th>\n",
       "      <th>recall_churn</th>\n",
       "      <th>f1_churn</th>\n",
       "      <th>precision_not_churn</th>\n",
       "      <th>recall_not_churn</th>\n",
       "      <th>f1_not_churn</th>\n",
       "    </tr>\n",
       "  </thead>\n",
       "  <tbody>\n",
       "    <tr>\n",
       "      <th>5</th>\n",
       "      <td>10.0</td>\n",
       "      <td>0.399546</td>\n",
       "      <td>0.691552</td>\n",
       "      <td>0.506475</td>\n",
       "      <td>0.903027</td>\n",
       "      <td>0.734304</td>\n",
       "      <td>0.809972</td>\n",
       "    </tr>\n",
       "    <tr>\n",
       "      <th>3</th>\n",
       "      <td>3.0</td>\n",
       "      <td>0.398180</td>\n",
       "      <td>0.687623</td>\n",
       "      <td>0.504323</td>\n",
       "      <td>0.901912</td>\n",
       "      <td>0.734304</td>\n",
       "      <td>0.809524</td>\n",
       "    </tr>\n",
       "    <tr>\n",
       "      <th>4</th>\n",
       "      <td>4.0</td>\n",
       "      <td>0.398180</td>\n",
       "      <td>0.687623</td>\n",
       "      <td>0.504323</td>\n",
       "      <td>0.901912</td>\n",
       "      <td>0.734304</td>\n",
       "      <td>0.809524</td>\n",
       "    </tr>\n",
       "  </tbody>\n",
       "</table>\n",
       "</div>"
      ],
      "text/plain": [
       "      C  precision_churn  recall_churn  f1_churn  precision_not_churn  \\\n",
       "5  10.0         0.399546      0.691552  0.506475             0.903027   \n",
       "3   3.0         0.398180      0.687623  0.504323             0.901912   \n",
       "4   4.0         0.398180      0.687623  0.504323             0.901912   \n",
       "\n",
       "   recall_not_churn  f1_not_churn  \n",
       "5          0.734304      0.809972  \n",
       "3          0.734304      0.809524  \n",
       "4          0.734304      0.809524  "
      ]
     },
     "execution_count": 24,
     "metadata": {},
     "output_type": "execute_result"
    }
   ],
   "source": [
    "linear_models = []\n",
    "for c in Cs:\n",
    "    model = create_svc_model(X_train_preprocessed, y_train, 'linear', c=c)\n",
    "    linear_models.append(model)\n",
    "    \n",
    "linear_metrics = evaluate_models(y_val, X_val_preprocessed, linear_models, 'linear')\n",
    "linear_metrics.sort_values(by=['recall_churn'], ascending=False).head(3)"
   ]
  },
  {
   "cell_type": "markdown",
   "metadata": {},
   "source": [
    "#### `4.3.2` SVC Poly Kernel"
   ]
  },
  {
   "cell_type": "code",
   "execution_count": 25,
   "metadata": {},
   "outputs": [
    {
     "data": {
      "text/html": [
       "<div>\n",
       "<style scoped>\n",
       "    .dataframe tbody tr th:only-of-type {\n",
       "        vertical-align: middle;\n",
       "    }\n",
       "\n",
       "    .dataframe tbody tr th {\n",
       "        vertical-align: top;\n",
       "    }\n",
       "\n",
       "    .dataframe thead th {\n",
       "        text-align: right;\n",
       "    }\n",
       "</style>\n",
       "<table border=\"1\" class=\"dataframe\">\n",
       "  <thead>\n",
       "    <tr style=\"text-align: right;\">\n",
       "      <th></th>\n",
       "      <th>C</th>\n",
       "      <th>degree</th>\n",
       "      <th>Coef0</th>\n",
       "      <th>precision_churn</th>\n",
       "      <th>recall_churn</th>\n",
       "      <th>f1_score_churn</th>\n",
       "      <th>precision_not_churn</th>\n",
       "      <th>recall_not_churn</th>\n",
       "      <th>f1_score_not_churn</th>\n",
       "    </tr>\n",
       "  </thead>\n",
       "  <tbody>\n",
       "    <tr>\n",
       "      <th>89</th>\n",
       "      <td>3.0</td>\n",
       "      <td>3</td>\n",
       "      <td>3.0</td>\n",
       "      <td>0.438654</td>\n",
       "      <td>0.793713</td>\n",
       "      <td>0.565035</td>\n",
       "      <td>0.933502</td>\n",
       "      <td>0.740331</td>\n",
       "      <td>0.825770</td>\n",
       "    </tr>\n",
       "    <tr>\n",
       "      <th>135</th>\n",
       "      <td>10.0</td>\n",
       "      <td>3</td>\n",
       "      <td>0.2</td>\n",
       "      <td>0.445183</td>\n",
       "      <td>0.789784</td>\n",
       "      <td>0.569405</td>\n",
       "      <td>0.932999</td>\n",
       "      <td>0.748368</td>\n",
       "      <td>0.830546</td>\n",
       "    </tr>\n",
       "    <tr>\n",
       "      <th>138</th>\n",
       "      <td>10.0</td>\n",
       "      <td>3</td>\n",
       "      <td>2.0</td>\n",
       "      <td>0.445183</td>\n",
       "      <td>0.789784</td>\n",
       "      <td>0.569405</td>\n",
       "      <td>0.932999</td>\n",
       "      <td>0.748368</td>\n",
       "      <td>0.830546</td>\n",
       "    </tr>\n",
       "  </tbody>\n",
       "</table>\n",
       "</div>"
      ],
      "text/plain": [
       "        C  degree  Coef0  precision_churn  recall_churn  f1_score_churn  \\\n",
       "89    3.0       3    3.0         0.438654      0.793713        0.565035   \n",
       "135  10.0       3    0.2         0.445183      0.789784        0.569405   \n",
       "138  10.0       3    2.0         0.445183      0.789784        0.569405   \n",
       "\n",
       "     precision_not_churn  recall_not_churn  f1_score_not_churn  \n",
       "89              0.933502          0.740331            0.825770  \n",
       "135             0.932999          0.748368            0.830546  \n",
       "138             0.932999          0.748368            0.830546  "
      ]
     },
     "execution_count": 25,
     "metadata": {},
     "output_type": "execute_result"
    }
   ],
   "source": [
    "poly_models = []\n",
    "for c in Cs:\n",
    "    for d in Ds:\n",
    "        for c0 in Coef0s:\n",
    "            model = create_svc_model(X_train_preprocessed, y_train, 'poly', c=c, d=d, coef0=c0)\n",
    "            poly_models.append(model)\n",
    "            \n",
    "poly_metrics = evaluate_models(y_val, X_val_preprocessed, poly_models, 'poly')\n",
    "poly_metrics.sort_values(by=['recall_churn'], ascending=False).head(3)"
   ]
  },
  {
   "cell_type": "code",
   "execution_count": 26,
   "metadata": {
    "scrolled": false
   },
   "outputs": [
    {
     "data": {
      "text/html": [
       "<div>\n",
       "<style scoped>\n",
       "    .dataframe tbody tr th:only-of-type {\n",
       "        vertical-align: middle;\n",
       "    }\n",
       "\n",
       "    .dataframe tbody tr th {\n",
       "        vertical-align: top;\n",
       "    }\n",
       "\n",
       "    .dataframe thead th {\n",
       "        text-align: right;\n",
       "    }\n",
       "</style>\n",
       "<table border=\"1\" class=\"dataframe\">\n",
       "  <thead>\n",
       "    <tr style=\"text-align: right;\">\n",
       "      <th></th>\n",
       "      <th>C</th>\n",
       "      <th>degree</th>\n",
       "      <th>Coef0</th>\n",
       "      <th>precision_churn</th>\n",
       "      <th>recall_churn</th>\n",
       "      <th>f1_score_churn</th>\n",
       "      <th>precision_not_churn</th>\n",
       "      <th>recall_not_churn</th>\n",
       "      <th>f1_score_not_churn</th>\n",
       "    </tr>\n",
       "  </thead>\n",
       "  <tbody>\n",
       "    <tr>\n",
       "      <th>119</th>\n",
       "      <td>4.0</td>\n",
       "      <td>4</td>\n",
       "      <td>3.0</td>\n",
       "      <td>0.467626</td>\n",
       "      <td>0.766208</td>\n",
       "      <td>0.580789</td>\n",
       "      <td>0.928571</td>\n",
       "      <td>0.776996</td>\n",
       "      <td>0.846049</td>\n",
       "    </tr>\n",
       "    <tr>\n",
       "      <th>61</th>\n",
       "      <td>0.5</td>\n",
       "      <td>3</td>\n",
       "      <td>0.5</td>\n",
       "      <td>0.467233</td>\n",
       "      <td>0.756385</td>\n",
       "      <td>0.577644</td>\n",
       "      <td>0.926014</td>\n",
       "      <td>0.779508</td>\n",
       "      <td>0.846469</td>\n",
       "    </tr>\n",
       "    <tr>\n",
       "      <th>94</th>\n",
       "      <td>3.0</td>\n",
       "      <td>4</td>\n",
       "      <td>3.0</td>\n",
       "      <td>0.467145</td>\n",
       "      <td>0.768173</td>\n",
       "      <td>0.580981</td>\n",
       "      <td>0.929044</td>\n",
       "      <td>0.775992</td>\n",
       "      <td>0.845649</td>\n",
       "    </tr>\n",
       "  </tbody>\n",
       "</table>\n",
       "</div>"
      ],
      "text/plain": [
       "       C  degree  Coef0  precision_churn  recall_churn  f1_score_churn  \\\n",
       "119  4.0       4    3.0         0.467626      0.766208        0.580789   \n",
       "61   0.5       3    0.5         0.467233      0.756385        0.577644   \n",
       "94   3.0       4    3.0         0.467145      0.768173        0.580981   \n",
       "\n",
       "     precision_not_churn  recall_not_churn  f1_score_not_churn  \n",
       "119             0.928571          0.776996            0.846049  \n",
       "61              0.926014          0.779508            0.846469  \n",
       "94              0.929044          0.775992            0.845649  "
      ]
     },
     "execution_count": 26,
     "metadata": {},
     "output_type": "execute_result"
    }
   ],
   "source": [
    "# trade off between recall and precision => model 74\n",
    "poly_metrics[poly_metrics['recall_churn']>0.75].sort_values(by=['precision_churn'], ascending=False).head(3)"
   ]
  },
  {
   "cell_type": "code",
   "execution_count": 33,
   "metadata": {},
   "outputs": [
    {
     "name": "stdout",
     "output_type": "stream",
     "text": [
      "* Number of predicted churn with polynomial kernel: 834\n"
     ]
    }
   ],
   "source": [
    "print(f\"* Number of predicted churn with polynomial kernel: {(poly_models[119].predict(X_val_preprocessed)==1).sum()}\")"
   ]
  },
  {
   "cell_type": "markdown",
   "metadata": {},
   "source": [
    "#### `4.3.2` SVC RBF Kernel"
   ]
  },
  {
   "cell_type": "code",
   "execution_count": 28,
   "metadata": {},
   "outputs": [
    {
     "data": {
      "text/html": [
       "<div>\n",
       "<style scoped>\n",
       "    .dataframe tbody tr th:only-of-type {\n",
       "        vertical-align: middle;\n",
       "    }\n",
       "\n",
       "    .dataframe tbody tr th {\n",
       "        vertical-align: top;\n",
       "    }\n",
       "\n",
       "    .dataframe thead th {\n",
       "        text-align: right;\n",
       "    }\n",
       "</style>\n",
       "<table border=\"1\" class=\"dataframe\">\n",
       "  <thead>\n",
       "    <tr style=\"text-align: right;\">\n",
       "      <th></th>\n",
       "      <th>C</th>\n",
       "      <th>gamma</th>\n",
       "      <th>precision_churn</th>\n",
       "      <th>recall_churn</th>\n",
       "      <th>f1_churn</th>\n",
       "      <th>precision_not_churn</th>\n",
       "      <th>recall_not_churn</th>\n",
       "      <th>f1_not_churn</th>\n",
       "    </tr>\n",
       "  </thead>\n",
       "  <tbody>\n",
       "    <tr>\n",
       "      <th>27</th>\n",
       "      <td>10.0</td>\n",
       "      <td>0.1</td>\n",
       "      <td>0.471084</td>\n",
       "      <td>0.768173</td>\n",
       "      <td>0.584018</td>\n",
       "      <td>0.929341</td>\n",
       "      <td>0.779508</td>\n",
       "      <td>0.847856</td>\n",
       "    </tr>\n",
       "    <tr>\n",
       "      <th>13</th>\n",
       "      <td>0.5</td>\n",
       "      <td>1.0</td>\n",
       "      <td>0.432768</td>\n",
       "      <td>0.752456</td>\n",
       "      <td>0.549498</td>\n",
       "      <td>0.921981</td>\n",
       "      <td>0.747865</td>\n",
       "      <td>0.825846</td>\n",
       "    </tr>\n",
       "    <tr>\n",
       "      <th>17</th>\n",
       "      <td>3.0</td>\n",
       "      <td>0.1</td>\n",
       "      <td>0.442509</td>\n",
       "      <td>0.748527</td>\n",
       "      <td>0.556204</td>\n",
       "      <td>0.921904</td>\n",
       "      <td>0.758915</td>\n",
       "      <td>0.832507</td>\n",
       "    </tr>\n",
       "  </tbody>\n",
       "</table>\n",
       "</div>"
      ],
      "text/plain": [
       "       C  gamma  precision_churn  recall_churn  f1_churn  precision_not_churn  \\\n",
       "27  10.0    0.1         0.471084      0.768173  0.584018             0.929341   \n",
       "13   0.5    1.0         0.432768      0.752456  0.549498             0.921981   \n",
       "17   3.0    0.1         0.442509      0.748527  0.556204             0.921904   \n",
       "\n",
       "    recall_not_churn  f1_not_churn  \n",
       "27          0.779508      0.847856  \n",
       "13          0.747865      0.825846  \n",
       "17          0.758915      0.832507  "
      ]
     },
     "execution_count": 28,
     "metadata": {},
     "output_type": "execute_result"
    }
   ],
   "source": [
    "rbf_models = []\n",
    "for c in Cs:\n",
    "    for g in Gs:\n",
    "        model = create_svc_model(X_train_preprocessed, y_train, 'rbf', c=c, gamma=g)\n",
    "        rbf_models.append(model)\n",
    "\n",
    "rbf_metrics_train = evaluate_models(y_train, X_train_preprocessed, rbf_models, 'rbf')\n",
    "rbf_metrics_val = evaluate_models(y_val, X_val_preprocessed, rbf_models, 'rbf')\n",
    "rbf_metrics_val.sort_values(by=['recall_churn'], ascending=False).head(3)"
   ]
  },
  {
   "cell_type": "code",
   "execution_count": 29,
   "metadata": {
    "scrolled": true
   },
   "outputs": [
    {
     "data": {
      "text/html": [
       "<div>\n",
       "<style scoped>\n",
       "    .dataframe tbody tr th:only-of-type {\n",
       "        vertical-align: middle;\n",
       "    }\n",
       "\n",
       "    .dataframe tbody tr th {\n",
       "        vertical-align: top;\n",
       "    }\n",
       "\n",
       "    .dataframe thead th {\n",
       "        text-align: right;\n",
       "    }\n",
       "</style>\n",
       "<table border=\"1\" class=\"dataframe\">\n",
       "  <thead>\n",
       "    <tr style=\"text-align: right;\">\n",
       "      <th></th>\n",
       "      <th>C</th>\n",
       "      <th>gamma</th>\n",
       "      <th>precision_churn</th>\n",
       "      <th>recall_churn</th>\n",
       "      <th>f1_churn</th>\n",
       "      <th>precision_not_churn</th>\n",
       "      <th>recall_not_churn</th>\n",
       "      <th>f1_not_churn</th>\n",
       "    </tr>\n",
       "  </thead>\n",
       "  <tbody>\n",
       "    <tr>\n",
       "      <th>27</th>\n",
       "      <td>10.0</td>\n",
       "      <td>0.1</td>\n",
       "      <td>0.471084</td>\n",
       "      <td>0.768173</td>\n",
       "      <td>0.584018</td>\n",
       "      <td>0.929341</td>\n",
       "      <td>0.779508</td>\n",
       "      <td>0.847856</td>\n",
       "    </tr>\n",
       "    <tr>\n",
       "      <th>13</th>\n",
       "      <td>0.5</td>\n",
       "      <td>1.0</td>\n",
       "      <td>0.432768</td>\n",
       "      <td>0.752456</td>\n",
       "      <td>0.549498</td>\n",
       "      <td>0.921981</td>\n",
       "      <td>0.747865</td>\n",
       "      <td>0.825846</td>\n",
       "    </tr>\n",
       "  </tbody>\n",
       "</table>\n",
       "</div>"
      ],
      "text/plain": [
       "       C  gamma  precision_churn  recall_churn  f1_churn  precision_not_churn  \\\n",
       "27  10.0    0.1         0.471084      0.768173  0.584018             0.929341   \n",
       "13   0.5    1.0         0.432768      0.752456  0.549498             0.921981   \n",
       "\n",
       "    recall_not_churn  f1_not_churn  \n",
       "27          0.779508      0.847856  \n",
       "13          0.747865      0.825846  "
      ]
     },
     "execution_count": 29,
     "metadata": {},
     "output_type": "execute_result"
    }
   ],
   "source": [
    "# trade off between recall and precision model => 27\n",
    "rbf_metrics_val[rbf_metrics_val['recall_churn']>0.75].sort_values(by=['precision_churn'], ascending=False).head(3)"
   ]
  },
  {
   "cell_type": "code",
   "execution_count": 30,
   "metadata": {
    "scrolled": true
   },
   "outputs": [
    {
     "name": "stdout",
     "output_type": "stream",
     "text": [
      "* Number of predicted churn with rbf kernel: 830\n"
     ]
    }
   ],
   "source": [
    "print(f\"* Number of predicted churn with rbf kernel: {(rbf_models[27].predict(X_val_preprocessed)==1).sum()}\")"
   ]
  },
  {
   "cell_type": "code",
   "execution_count": 31,
   "metadata": {},
   "outputs": [
    {
     "data": {
      "image/png": "[encoded data removed]",
      "text/plain": [
       "<Figure size 432x288 with 1 Axes>"
      ]
     },
     "metadata": {
      "needs_background": "light"
     },
     "output_type": "display_data"
    }
   ],
   "source": [
    "# plotting C vs f1_score (validation/train dataset)\n",
    "plt.plot(rbf_metrics_train[rbf_metrics_train['gamma']==0.1]['C'], \n",
    "         rbf_metrics_train[rbf_metrics_train['gamma']==0.1]['f1_churn'], label='train')\n",
    "\n",
    "plt.plot(rbf_metrics_val[rbf_metrics_val['gamma']==0.1]['C'], \n",
    "         rbf_metrics_val[rbf_metrics_val['gamma']==0.1]['f1_churn'], label='val')\n",
    "\n",
    "plt.title('validation-train dataset')\n",
    "plt.xlabel('C')\n",
    "plt.ylabel('f1_score')\n",
    "plt.legend()\n",
    "plt.show()"
   ]
  },
  {
   "cell_type": "code",
   "execution_count": 32,
   "metadata": {},
   "outputs": [
    {
     "data": {
      "image/png": "[encoded data removed]",
      "text/plain": [
       "<Figure size 432x288 with 1 Axes>"
      ]
     },
     "metadata": {
      "needs_background": "light"
     },
     "output_type": "display_data"
    }
   ],
   "source": [
    "# plotting gamma vs f1_score (validation/train dataset)\n",
    "plt.plot(rbf_metrics_train[rbf_metrics_train['C']==10]['gamma'], \n",
    "         rbf_metrics_train[rbf_metrics_train['C']==10]['f1_churn'], label='train')\n",
    "\n",
    "plt.plot(rbf_metrics_val[rbf_metrics_val['C']==10]['gamma'], \n",
    "         rbf_metrics_val[rbf_metrics_val['C']==10]['f1_churn'], label='val')\n",
    "\n",
    "plt.title('validation-train dataset')\n",
    "plt.xlabel('gamma')\n",
    "plt.ylabel('f1_score')\n",
    "plt.legend()\n",
    "plt.show()"
   ]
  },
  {
   "cell_type": "markdown",
   "metadata": {},
   "source": [
    "# CONCLUSION FOR SVC\n",
    "According to precision and recall trade off i choosed the RBF model because, it satisfy all the requriments"
   ]
  },
  {
   "cell_type": "markdown",
   "metadata": {},
   "source": [
    "|  C  | gamma | coef0 | degree |  Prec  |  Recal |   F1   | Kernel | predicted_churn |\n",
    "|:---:|:-----:|:-----:|:------:|:------:|:------:|:------:|:------:|:---------------:|\n",
    "|  10 |  0.1  |   --  |   --   | 0.4710 | 0.7681 | 0.5840 |   RBF  |       830       |\n",
    "| 4.0 |   --  |   3   |    4   | 0.4676 | 0.7662 | 0.5807 |  Poly  |       834       |"
   ]
  },
  {
   "cell_type": "markdown",
   "metadata": {},
   "source": [
    "# LOGISTIC VS SVC\n",
    "Here I also choosed the RBF model because, it satisfy all the requriments with higher percision and recall"
   ]
  },
  {
   "cell_type": "markdown",
   "metadata": {},
   "source": [
    "|  C  | gamma | coef0 | degree |  Prec  |  Recal |   F1   |   Model  | predicted_churn |\n",
    "|:---:|:-----:|:-----:|:------:|:------:|:------:|:------:|:--------:|:---------------:|\n",
    "|  -- |   --  |   --  |   --   | 0.3590 | 0.7485 | 0.4853 | Logistic |       1060      |\n",
    "|  10 |  0.1  |   --  |   --   | 0.4710 | 0.7662 | 0.5840 |    RBF   |       830       |"
   ]
  },
  {
   "cell_type": "code",
   "execution_count": null,
   "metadata": {},
   "outputs": [],
   "source": []
  }
 ],
 "metadata": {
  "kernelspec": {
   "display_name": "Python 3",
   "language": "python",
   "name": "python3"
  },
  "language_info": {
   "codemirror_mode": {
    "name": "ipython",
    "version": 3
   },
   "file_extension": ".py",
   "mimetype": "text/x-python",
   "name": "python",
   "nbconvert_exporter": "python",
   "pygments_lexer": "ipython3",
   "version": "3.8.5"
  }
 },
 "nbformat": 4,
 "nbformat_minor": 4
}
